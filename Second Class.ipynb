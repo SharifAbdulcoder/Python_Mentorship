{
 "cells": [
  {
   "cell_type": "code",
   "execution_count": 42,
   "metadata": {},
   "outputs": [
    {
     "name": "stdout",
     "output_type": "stream",
     "text": [
      "{'username': 'Abdul-^', 'password': 'redhat', 'email': 'abdugofir@gmail.com', 'id': '1'}\n"
     ]
    }
   ],
   "source": [
    "users = []\n",
    "Abdul = {'username': 'Abdul-^', 'password': 'redhat', 'email': 'abdugofir@gmail.com', 'id': '1'}\n",
    "Farkhod = {'username': 'Fsadykov', 'password': 'redhat', 'email': 'farkhod@gmail.com', 'id': '2'}\n",
    "Dilfuza = {'username': 'Dilfuz', 'password': 'redhat', 'email': 'dilfuz@gmail.com', 'id': '3'}\n",
    "\n",
    "\n",
    "users.append(Abdul)\n",
    "users.append(Farkhod)\n",
    "users.append(Dilfuza)\n",
    "print(users[0])"
   ]
  },
  {
   "cell_type": "code",
   "execution_count": 43,
   "metadata": {},
   "outputs": [],
   "source": [
    "import json"
   ]
  },
  {
   "cell_type": "code",
   "execution_count": 47,
   "metadata": {},
   "outputs": [
    {
     "name": "stdout",
     "output_type": "stream",
     "text": [
      "{\n",
      "  \"username\": \"Abdul-^\",\n",
      "  \"password\": \"redhat\",\n",
      "  \"email\": \"abdugofir@gmail.com\",\n",
      "  \"id\": \"1\"\n",
      "}\n"
     ]
    }
   ],
   "source": [
    "print(json.dumps(Abdul, indent=2))"
   ]
  },
  {
   "cell_type": "code",
   "execution_count": null,
   "metadata": {},
   "outputs": [],
   "source": []
  }
 ],
 "metadata": {
  "kernelspec": {
   "display_name": "Python 3",
   "language": "python",
   "name": "python3"
  },
  "language_info": {
   "codemirror_mode": {
    "name": "ipython",
    "version": 3
   },
   "file_extension": ".py",
   "mimetype": "text/x-python",
   "name": "python",
   "nbconvert_exporter": "python",
   "pygments_lexer": "ipython3",
   "version": "3.6.5"
  }
 },
 "nbformat": 4,
 "nbformat_minor": 2
}
