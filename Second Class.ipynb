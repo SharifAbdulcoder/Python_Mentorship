{
 "cells": [
  {
   "cell_type": "code",
   "execution_count": 42,
   "metadata": {},
   "outputs": [
    {
     "name": "stdout",
     "output_type": "stream",
     "text": [
      "{'username': 'Abdul-^', 'password': 'redhat', 'email': 'abdugofir@gmail.com', 'id': '1'}\n"
     ]
    }
   ],
   "source": [
    "users = []\n",
    "Abdul = {'username': 'Abdul-^', 'password': 'redhat', 'email': 'abdugofir@gmail.com', 'id': '1'}\n",
    "Farkhod = {'username': 'Fsadykov', 'password': 'redhat', 'email': 'farkhod@gmail.com', 'id': '2'}\n",
    "Dilfuza = {'username': 'Dilfuz', 'password': 'redhat', 'email': 'dilfuz@gmail.com', 'id': '3'}\n",
    "\n",
    "\n",
    "users.append(Abdul)\n",
    "users.append(Farkhod)\n",
    "users.append(Dilfuza)\n",
    "print(users[0])"
   ]
  },
  {
   "cell_type": "code",
   "execution_count": 43,
   "metadata": {},
   "outputs": [],
   "source": [
    "import json"
   ]
  },
  {
   "cell_type": "code",
   "execution_count": 45,
   "metadata": {},
   "outputs": [
    {
     "name": "stdout",
     "output_type": "stream",
     "text": [
      "{'username': 'Abdul-^', 'password': 'redhat', 'email': 'abdugofir@gmail.com', 'id': '1'}\n"
     ]
    }
   ],
   "source": [
    "print(Abdul)"
   ]
  },
  {
   "cell_type": "code",
   "execution_count": null,
   "metadata": {},
   "outputs": [],
   "source": []
  }
 ],
 "metadata": {
  "kernelspec": {
   "display_name": "Python 3",
   "language": "python",
   "name": "python3"
  }
 },
 "nbformat": 4,
 "nbformat_minor": 2
}
